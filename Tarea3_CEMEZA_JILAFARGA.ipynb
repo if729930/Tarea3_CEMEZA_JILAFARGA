{
 "cells": [
  {
   "cell_type": "markdown",
   "metadata": {},
   "source": [
    "<img style=\"float: left; margin: 30px 15px 15px 15px;\" src=\"https://pngimage.net/wp-content/uploads/2018/06/logo-iteso-png-5.png\" width=\"300\" height=\"500\" /> \n",
    "    \n",
    "    \n",
    "### <font color='navy'> Simulación de procesos financieros. \n",
    "\n",
    "**Nombres:** Claudia Estefania Meza Fonseca, Jesus Ivan Lafarga.\n",
    "\n",
    "**Fecha:** 16 de Septiembre 2021.\n",
    "\n",
    "**Expediente** : 729930, .\n",
    "**Profesor:** Oscar David Jaramillo Zuluaga.\n",
    "    \n",
    "**Link Github**:https://github.com/if729930/Tarea3_CEMEZA_JILAFARGA\n",
    "\n"
   ]
  },
  {
   "cell_type": "markdown",
   "metadata": {},
   "source": [
    "> ## Tarea 3: (Usando notebook de jupyter)** \n",
    "\n",
    "> Usando compresión de listas o funciones map(sino recuerda como funciona observar el siguiente enlace https://www.pythonforbeginners.com/lists/list-comprehensions-in-python/), resolver los siguientes ejercicios:\n",
    "\n",
    ">1. Resolver la siguiente ecuación recursiva usando funciones como se vió en clase\n",
    "$$ D_{n}=(n-1) D_{n-1}+(n-1) D_{n-2} \\quad n\\ge 3$$\n",
    "con $D_1=0$ y $D_2 = 1$\n",
    ">3. Count the number of spaces in the following string `variable =  relaciónn  requiere,  para obtener  el  valor  de un  cierto  término,  el conocimiento de los dos anteriores`.\n",
    ">4. Remove all of the vowels in a string [make a list of the non-vowels].\n",
    ">5. Find all of the words in a string that are less than 4 letters.\n",
    ">6. Use a dictionary comprehension to count the length of each word in a sentence.\n",
    ">7. Use a nested list comprehension to find all of the numbers from 1-1000 that are divisible by any single digit besides 1 (2-9). "
   ]
  },
  {
   "cell_type": "code",
   "execution_count": null,
   "metadata": {},
   "outputs": [],
   "source": [
    "#Librerías"
   ]
  },
  {
   "cell_type": "code",
   "execution_count": null,
   "metadata": {},
   "outputs": [],
   "source": [
    "##Estudiante 1\n",
    "#Ejercicio 1"
   ]
  },
  {
   "cell_type": "code",
   "execution_count": 19,
   "metadata": {},
   "outputs": [
    {
     "data": {
      "text/plain": [
       "23"
      ]
     },
     "execution_count": 19,
     "metadata": {},
     "output_type": "execute_result"
    }
   ],
   "source": [
    "#Ejercicio 2\n",
    "variable =  \"relación  requiere,  para obtener  el  valor  de un  cierto  término,  el conocimiento de los dos anteriores\"\n",
    "def contador(variable):\n",
    "    return variable.count(\" \")\n",
    "count=list(map(contador,variable))\n",
    "sum(count)"
   ]
  },
  {
   "cell_type": "code",
   "execution_count": 23,
   "metadata": {},
   "outputs": [
    {
     "data": {
      "text/plain": [
       "['r',\n",
       " 'l',\n",
       " 'c',\n",
       " 'ó',\n",
       " 'n',\n",
       " ' ',\n",
       " ' ',\n",
       " 'r',\n",
       " 'q',\n",
       " 'r',\n",
       " ',',\n",
       " ' ',\n",
       " ' ',\n",
       " 'p',\n",
       " 'r',\n",
       " ' ',\n",
       " 'b',\n",
       " 't',\n",
       " 'n',\n",
       " 'r',\n",
       " ' ',\n",
       " ' ',\n",
       " 'l',\n",
       " ' ',\n",
       " ' ',\n",
       " 'v',\n",
       " 'l',\n",
       " 'r',\n",
       " ' ',\n",
       " ' ',\n",
       " 'd',\n",
       " ' ',\n",
       " 'n',\n",
       " ' ',\n",
       " ' ',\n",
       " 'c',\n",
       " 'r',\n",
       " 't',\n",
       " ' ',\n",
       " ' ',\n",
       " 't',\n",
       " 'é',\n",
       " 'r',\n",
       " 'm',\n",
       " 'n',\n",
       " ',',\n",
       " ' ',\n",
       " ' ',\n",
       " 'l',\n",
       " ' ',\n",
       " 'c',\n",
       " 'n',\n",
       " 'c',\n",
       " 'm',\n",
       " 'n',\n",
       " 't',\n",
       " ' ',\n",
       " 'd',\n",
       " ' ',\n",
       " 'l',\n",
       " 's',\n",
       " ' ',\n",
       " 'd',\n",
       " 's',\n",
       " ' ',\n",
       " 'n',\n",
       " 't',\n",
       " 'r',\n",
       " 'r',\n",
       " 's']"
      ]
     },
     "execution_count": 23,
     "metadata": {},
     "output_type": "execute_result"
    }
   ],
   "source": [
    "#Ejercicio 3\n",
    "vowels = ['a','e','i','o','u']\n",
    "result = [letter for letter in variable if letter.lower() not in vowels]\n",
    "result\n"
   ]
  },
  {
   "cell_type": "code",
   "execution_count": 24,
   "metadata": {},
   "outputs": [
    {
     "data": {
      "text/plain": [
       "['el', 'de', 'un', 'el', 'de', 'los', 'dos']"
      ]
     },
     "execution_count": 24,
     "metadata": {},
     "output_type": "execute_result"
    }
   ],
   "source": [
    "#Ejercicio 4\n",
    "ej4= lambda x: len(x) < 4 \n",
    "x = list(filter(ej4,variable.split()))\n",
    "x"
   ]
  },
  {
   "cell_type": "code",
   "execution_count": 26,
   "metadata": {},
   "outputs": [
    {
     "data": {
      "text/plain": [
       "[8, 9, 4, 7, 2, 5, 2, 2, 6, 8, 2, 12, 2, 3, 3, 10]"
      ]
     },
     "execution_count": 26,
     "metadata": {},
     "output_type": "execute_result"
    }
   ],
   "source": [
    "#Ejercicio 5\n",
    "length=[len(x) for x in variable.split()]\n",
    "length"
   ]
  },
  {
   "cell_type": "code",
   "execution_count": null,
   "metadata": {},
   "outputs": [],
   "source": [
    "#Ejercicio 6\n",
    "division=[2,3,4,5,6,7,8,9]\n"
   ]
  },
  {
   "cell_type": "code",
   "execution_count": null,
   "metadata": {},
   "outputs": [],
   "source": []
  },
  {
   "cell_type": "code",
   "execution_count": null,
   "metadata": {},
   "outputs": [],
   "source": []
  },
  {
   "cell_type": "code",
   "execution_count": null,
   "metadata": {},
   "outputs": [],
   "source": [
    "#Estudiante 2"
   ]
  },
  {
   "cell_type": "code",
   "execution_count": null,
   "metadata": {},
   "outputs": [],
   "source": []
  },
  {
   "cell_type": "code",
   "execution_count": null,
   "metadata": {},
   "outputs": [],
   "source": []
  },
  {
   "cell_type": "code",
   "execution_count": null,
   "metadata": {},
   "outputs": [],
   "source": []
  },
  {
   "cell_type": "code",
   "execution_count": null,
   "metadata": {},
   "outputs": [],
   "source": []
  },
  {
   "cell_type": "code",
   "execution_count": null,
   "metadata": {},
   "outputs": [],
   "source": []
  },
  {
   "cell_type": "code",
   "execution_count": null,
   "metadata": {},
   "outputs": [],
   "source": []
  }
 ],
 "metadata": {
  "kernelspec": {
   "display_name": "Python 3",
   "language": "python",
   "name": "python3"
  },
  "language_info": {
   "codemirror_mode": {
    "name": "ipython",
    "version": 3
   },
   "file_extension": ".py",
   "mimetype": "text/x-python",
   "name": "python",
   "nbconvert_exporter": "python",
   "pygments_lexer": "ipython3",
   "version": "3.8.3"
  }
 },
 "nbformat": 4,
 "nbformat_minor": 4
}
